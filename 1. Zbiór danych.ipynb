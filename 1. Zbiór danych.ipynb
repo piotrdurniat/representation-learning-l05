{
 "cells": [
  {
   "cell_type": "markdown",
   "id": "aa43197a",
   "metadata": {},
   "source": [
    "Przed oddaniem zadania upewnij się, że wszystko działa poprawnie.\n",
    "**Uruchom ponownie kernel** (z paska menu: Kernel$\\rightarrow$Restart) a następnie\n",
    "**wykonaj wszystkie komórki** (z paska menu: Cell$\\rightarrow$Run All).\n",
    "\n",
    "Upewnij się, że wypełniłeś wszystkie pola `TU WPISZ KOD` lub `TU WPISZ ODPOWIEDŹ`, oraz\n",
    "że podałeś swoje imię i nazwisko poniżej:"
   ]
  },
  {
   "cell_type": "code",
   "execution_count": null,
   "id": "ba1e1bf6",
   "metadata": {},
   "outputs": [],
   "source": [
    "NAME = \"\""
   ]
  },
  {
   "cell_type": "markdown",
   "id": "9129ce5f",
   "metadata": {},
   "source": [
    "---"
   ]
  },
  {
   "cell_type": "markdown",
   "id": "71d10a9b",
   "metadata": {},
   "source": [
    "# 1. Zbiór danych\n",
    "\n",
    "Ze względu na wielkość dostępnych zbiorów danych oraz złożoność obliczeniową metody, wszystkie eksperymenty przeprowadzimy na sztucznie wygenerowanym zbiorze danych, zgodnie z procedurą opisaną przez autorów metody. Zbiór ten w publikacji jest nazywany \"zbiorem symulowanym.\""
   ]
  },
  {
   "cell_type": "markdown",
   "id": "70c5e980",
   "metadata": {},
   "source": [
    "Zbiór ten z założenia ma być długim, niestacjonarnym i wysoko-częstotliwościowym ciągiem czasowym, którego dynamika zmienia się w czasie.\n",
    "\n",
    "Będziemy generować 3 ciągi czasowe o zadanej długości (liczbie próbek). Dynamika wszystkich ciągów czasowych wynika z jednego z 4 ukrytych stanów. W celu losowej zmiany tego stanu w trakcie generowania danego ciągu, zastosowano model HMM (Hidden Markov Model), gdzie prawdopodobieństwo pozostania w danym stanie to 85%, natomiast prawdopodobieństwo przejścia w inny stan to 5% (dla każdego z pozostałych stanów).\n",
    "\n",
    "Każdy stan jest związany z odpowiednim modelem generowania próbek:\n",
    "\n",
    "0., 2. modele Gaussian Proces (GP) z różnymi kernelami\n",
    "\n",
    "1., 3. modele Nonlinear Auto-regressive Moving Average (NARMA) z różnymi zestawami parametrów ($\\alpha$, $\\beta$).\n",
    "\n",
    "\n",
    "Stan, w którym się dany ciąg czasowych znajduje w danej chwili będziemy w dalszych ewaluacjach metody używali w problemie klasyfikacyjnym jako klasę danej próbki."
   ]
  },
  {
   "cell_type": "markdown",
   "id": "0bc51a42",
   "metadata": {},
   "source": [
    "Wygenerujemy teraz zbiór korzystając w powyższego modelu generatywnego. Założmy, że chcemy uzyskać:\n",
    "- **100 przykładów** uczących\n",
    "- ciągi czasowe składające się z **1000 próbek**"
   ]
  },
  {
   "cell_type": "code",
   "execution_count": null,
   "id": "f311444f",
   "metadata": {},
   "outputs": [],
   "source": [
    "from src.signal_simulation import simulate_signal"
   ]
  },
  {
   "cell_type": "code",
   "execution_count": null,
   "id": "9b112a58",
   "metadata": {},
   "outputs": [],
   "source": [
    "dataset = simulate_signal(\n",
    "    n_samples=100,\n",
    "    sig_len=1_000,\n",
    "    seed=42,\n",
    ")"
   ]
  },
  {
   "cell_type": "markdown",
   "id": "c2170272",
   "metadata": {},
   "source": [
    "Zapisujemy wygenerowany zbiór danych do pliku:"
   ]
  },
  {
   "cell_type": "code",
   "execution_count": null,
   "id": "dde5845a",
   "metadata": {},
   "outputs": [],
   "source": [
    "import torch\n",
    "\n",
    "\n",
    "torch.save(obj=dataset, f=\"./data/simulated.pt\")"
   ]
  },
  {
   "cell_type": "markdown",
   "id": "042792e5",
   "metadata": {},
   "source": [
    "Zwizualizujmy wybrany ciąg czasowy:"
   ]
  },
  {
   "cell_type": "code",
   "execution_count": null,
   "id": "af43ca17",
   "metadata": {},
   "outputs": [],
   "source": [
    "import matplotlib.pyplot as plt\n",
    "import seaborn as sns\n",
    "\n",
    "sns.set()\n",
    "\n",
    "x_train = dataset[\"x_train\"]\n",
    "y_train = dataset[\"y_train\"]\n",
    "\n",
    "fig, axes = plt.subplots(nrows=3, ncols=1)\n",
    "color = [\n",
    "    [0.6350, 0.0780, 0.1840],\n",
    "    [0.4660, 0.6740, 0.1880],\n",
    "    [0, 0.4470, 0.7410],\n",
    "]\n",
    "\n",
    "for i, ax in enumerate(axes):\n",
    "    ax.plot(x_train[0, i, :],  c=color[i])\n",
    "    for t in range(x_train[0, i, :].shape[-1]):\n",
    "        ax.axvspan(\n",
    "            t, min(t+1, y_train.shape[-1]-1),\n",
    "            facecolor=[\"y\", \"g\", \"b\", \"r\"][y_train[0, t]],\n",
    "            alpha=0.3,\n",
    "        )\n",
    "        \n",
    "fig.set_figheight(6)\n",
    "fig.set_figwidth(12)"
   ]
  }
 ],
 "metadata": {
  "kernelspec": {
   "display_name": "Python 3 (ipykernel)",
   "language": "python",
   "name": "python3"
  },
  "language_info": {
   "codemirror_mode": {
    "name": "ipython",
    "version": 3
   },
   "file_extension": ".py",
   "mimetype": "text/x-python",
   "name": "python",
   "nbconvert_exporter": "python",
   "pygments_lexer": "ipython3",
   "version": "3.11.9"
  }
 },
 "nbformat": 4,
 "nbformat_minor": 5
}
